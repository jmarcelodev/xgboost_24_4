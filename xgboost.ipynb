{
 "cells": [
  {
   "cell_type": "code",
   "execution_count": 1,
   "id": "15ab3541",
   "metadata": {},
   "outputs": [],
   "source": [
    "#Importar as bibliotecas de manipulação de dados\n",
    "import pandas as pd\n",
    "import numpy as np\n",
    "import matplotlib.pyplot as plt\n",
    "import seaborn as sns"
   ]
  },
  {
   "cell_type": "code",
   "execution_count": 2,
   "id": "daa36741",
   "metadata": {},
   "outputs": [],
   "source": [
    "#Importar as planilhas formato csv\n",
    "df1= pd.read_csv('train_test.csv') #Somente treinamento\n",
    "df2= pd.read_csv('valid_xboost.csv') #Somente validação "
   ]
  },
  {
   "cell_type": "code",
   "execution_count": 3,
   "id": "57d9c30b",
   "metadata": {},
   "outputs": [],
   "source": [
    "#Dividir o conjuto de dados de treinamento e escolher quais váriaveis não vão entrar\n",
    "from sklearn.model_selection import train_test_split\n",
    "X = df1.drop(['fid', 'lat', 'long', 'talhao', 'wkt_geom','Altitude1', 'produtivid' ], axis= 1)\n",
    "y= df1['produtivid']\n",
    "X_train,X_test,y_train,y_test = train_test_split(X,y,test_size=0.3) #70% treino e 30% teste"
   ]
  },
  {
   "cell_type": "code",
   "execution_count": 4,
   "id": "51c37a0d",
   "metadata": {},
   "outputs": [
    {
     "data": {
      "text/plain": [
       "XGBRegressor(base_score=None, booster=None, callbacks=None,\n",
       "             colsample_bylevel=None, colsample_bynode=None,\n",
       "             colsample_bytree=None, device=None, early_stopping_rounds=None,\n",
       "             enable_categorical=False, eval_metric=None, feature_types=None,\n",
       "             gamma=None, grow_policy=None, importance_type=None,\n",
       "             interaction_constraints=None, learning_rate=None, max_bin=None,\n",
       "             max_cat_threshold=None, max_cat_to_onehot=None,\n",
       "             max_delta_step=None, max_depth=None, max_leaves=None,\n",
       "             min_child_weight=None, missing=nan, monotone_constraints=None,\n",
       "             multi_strategy=None, n_estimators=None, n_jobs=None,\n",
       "             num_parallel_tree=None, random_state=None, ...)"
      ]
     },
     "execution_count": 4,
     "metadata": {},
     "output_type": "execute_result"
    }
   ],
   "source": [
    "#Importar algoritmo\n",
    "import xgboost as xgb\n",
    "model = xgb.XGBRegressor() #criar um objeto recebendo o algoritmo\n",
    "model.fit(X_train, y_train) #treinar o algoritmo"
   ]
  },
  {
   "cell_type": "code",
   "execution_count": 16,
   "id": "56aee6a4",
   "metadata": {},
   "outputs": [],
   "source": [
    "#Predição dentro dos dados de treino\n",
    "y_pred = model.predict(X_test)"
   ]
  },
  {
   "cell_type": "code",
   "execution_count": 17,
   "id": "fcb366cd",
   "metadata": {},
   "outputs": [
    {
     "name": "stdout",
     "output_type": "stream",
     "text": [
      "MAE: 5.194486137629855\n",
      "RMSE: 7.258134666004934\n",
      "R²: 0.8488799217489591\n"
     ]
    }
   ],
   "source": [
    "#Métricas de erro\n",
    "from sklearn.metrics import mean_absolute_error, mean_squared_error, r2_score\n",
    "mae = mean_absolute_error(y_test, y_pred)\n",
    "rmse = np.sqrt(mean_squared_error(y_test, y_pred))\n",
    "r_squared = r2_score(y_test, y_pred)\n",
    "print(\"MAE:\", mae)\n",
    "print(\"RMSE:\", rmse)\n",
    "print(\"R²:\", r_squared)"
   ]
  },
  {
   "cell_type": "code",
   "execution_count": 8,
   "id": "b90a58c5",
   "metadata": {},
   "outputs": [],
   "source": [
    "#Predição na validação\n",
    "y_prod_pred = model.predict(df2.drop(['produtivid','fid', 'lat', 'long', 'talhao', 'wkt_geom','Altitude1'], axis = 1))"
   ]
  },
  {
   "cell_type": "code",
   "execution_count": 12,
   "id": "a7f4fbbb",
   "metadata": {},
   "outputs": [
    {
     "name": "stdout",
     "output_type": "stream",
     "text": [
      "MAE: 9.876386475279451\n",
      "RMSE: 12.75980005222303\n",
      "R²: 0.6675358465542578\n"
     ]
    }
   ],
   "source": [
    "#Métricas de erro\n",
    "mae_p = mean_absolute_error(df2['produtivid'], y_prod_pred)\n",
    "rmse_p = np.sqrt(mean_squared_error(df2['produtivid'], y_prod_pred))\n",
    "r_squared_p = r2_score(df2['produtivid'], y_prod_pred)\n",
    "print(\"MAE:\", mae_p)\n",
    "print(\"RMSE:\", rmse_p)\n",
    "print(\"R²:\", r_squared_p)"
   ]
  },
  {
   "cell_type": "code",
   "execution_count": 13,
   "id": "44f0f172",
   "metadata": {},
   "outputs": [
    {
     "name": "stdout",
     "output_type": "stream",
     "text": [
      "Melhores hiperparâmetros encontrados:\n",
      "{'colsample_bytree': 0.8, 'learning_rate': 0.1, 'max_depth': 5, 'n_estimators': 300, 'subsample': 0.9}\n",
      "Mean Absolute Error: 4.993681325268513\n",
      "Root Mean Squared Error: 6.9320945036119515\n",
      "R-squared: 0.8621518075574309\n"
     ]
    }
   ],
   "source": [
    "from sklearn.model_selection import GridSearchCV\n",
    "\n",
    "# Definir os hiperparâmetros a serem ajustados\n",
    "param_grid = {\n",
    "    'n_estimators': [100, 200, 300],\n",
    "    'max_depth': [3, 4, 5],\n",
    "    'learning_rate': [0.05, 0.1, 0.2],\n",
    "    'subsample': [0.8, 0.9, 1.0],\n",
    "    'colsample_bytree': [0.8, 0.9, 1.0]\n",
    "}\n",
    "\n",
    "# Criar XGBoost\n",
    "xgb_model = xgb.XGBRegressor()\n",
    "\n",
    "# Usar GridSearchCV para encontrar os melhores hiperparâmetros\n",
    "grid_search = GridSearchCV(estimator=xgb_model, param_grid=param_grid, cv=3, scoring='neg_mean_squared_error')\n",
    "grid_search.fit(X_train, y_train)\n",
    "\n",
    "# Imprimir os melhores hiperparâmetros encontrados\n",
    "print(\"Melhores hiperparâmetros encontrados:\")\n",
    "print(grid_search.best_params_)\n",
    "\n",
    "# Fazer predição com o melhor modelo\n",
    "best_model = grid_search.best_estimator_\n",
    "y_pred = best_model.predict(X_test)\n",
    "\n",
    "# Métricas de desempenho do modelo\n",
    "mae = mean_absolute_error(y_test, y_pred)\n",
    "rmse = np.sqrt(mean_squared_error(y_test, y_pred))\n",
    "r_squared = r2_score(y_test, y_pred)\n",
    "\n",
    "print(\"Mean Absolute Error:\", mae)\n",
    "print(\"Root Mean Squared Error:\", rmse)\n",
    "print(\"R-squared:\", r_squared)"
   ]
  },
  {
   "cell_type": "code",
   "execution_count": 14,
   "id": "a3f589d0",
   "metadata": {},
   "outputs": [],
   "source": [
    "#Predição na validação com melhores hiperparametros\n",
    "pred_y = best_model.predict(df2.drop(['produtivid','fid', 'lat', 'long', 'talhao', 'wkt_geom','Altitude1'], axis = 1))"
   ]
  },
  {
   "cell_type": "code",
   "execution_count": 15,
   "id": "8602f20d",
   "metadata": {},
   "outputs": [
    {
     "name": "stdout",
     "output_type": "stream",
     "text": [
      "MAE: 9.876386475279451\n",
      "RMSE: 12.75980005222303\n",
      "R²: 0.6675358465542578\n"
     ]
    }
   ],
   "source": [
    "#Métricas de erro\n",
    "p_mae = mean_absolute_error(df2['produtivid'], pred_y)\n",
    "p_rmse = np.sqrt(mean_squared_error(df2['produtivid'], pred_y))\n",
    "r_squared = r2_score(df2['produtivid'],pred_y)\n",
    "print(\"MAE:\", mae_p)\n",
    "print(\"RMSE:\", rmse_p)\n",
    "print(\"R²:\", r_squared_p)"
   ]
  },
  {
   "cell_type": "code",
   "execution_count": null,
   "id": "e6d983b1",
   "metadata": {},
   "outputs": [],
   "source": []
  }
 ],
 "metadata": {
  "kernelspec": {
   "display_name": "Python 3",
   "language": "python",
   "name": "python3"
  },
  "language_info": {
   "codemirror_mode": {
    "name": "ipython",
    "version": 3
   },
   "file_extension": ".py",
   "mimetype": "text/x-python",
   "name": "python",
   "nbconvert_exporter": "python",
   "pygments_lexer": "ipython3",
   "version": "3.8.8"
  }
 },
 "nbformat": 4,
 "nbformat_minor": 5
}
